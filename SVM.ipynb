{
 "cells": [
  {
   "cell_type": "code",
   "execution_count": 17,
   "metadata": {
    "id": "kYdzi_jZK5YQ"
   },
   "outputs": [],
   "source": [
    "import os\n",
    "import numpy as np\n",
    "import pandas as pd\n",
    "import seaborn as sns\n",
    "from sklearn.svm import SVC\n",
    "import matplotlib.pyplot as plt\n",
    "from sklearn.preprocessing import StandardScaler\n",
    "from sklearn.metrics import classification_report, accuracy_score, confusion_matrix\n",
    "import matplotlib.pyplot as plt\n",
    "import seaborn as sns\n",
    "from sklearn.metrics import confusion_matrix\n",
    "import os\n",
    "import shutil\n",
    "import random\n",
    "import joblib"
   ]
  },
  {
   "cell_type": "markdown",
   "metadata": {},
   "source": [
    "## Train_test_split\n"
   ]
  },
  {
   "cell_type": "code",
   "execution_count": 2,
   "metadata": {},
   "outputs": [],
   "source": [
    "source_dir = 'Data'  \n",
    "train_dir = 'Train_data'    \n",
    "val_dir = 'Val_Data' \n",
    "train_csv = \"train.csv\"\n",
    "val_csv = \"val.csv\""
   ]
  },
  {
   "cell_type": "code",
   "execution_count": 3,
   "metadata": {},
   "outputs": [
    {
     "name": "stdout",
     "output_type": "stream",
     "text": [
      "Copied 270 files to Train_data\n",
      "Copied 90 files to Val_Data\n"
     ]
    }
   ],
   "source": [
    "split_ratio = 0.75  # Proportion of files in the train set \n",
    "\n",
    "# Create train and test directories \n",
    "if os.path.exists(train_dir):\n",
    "    try:\n",
    "        shutil.rmtree(train_dir)\n",
    "    except OSError as e:\n",
    "        print(f\"Error removing directory '{train_dir}': {e}\")\n",
    "if os.path.exists(val_dir):\n",
    "    try:\n",
    "        shutil.rmtree(val_dir)\n",
    "    except OSError as e:\n",
    "        print(f\"Error removing directory '{val_dir}': {e}\")\n",
    "        \n",
    "os.makedirs(train_dir)\n",
    "os.makedirs(val_dir)\n",
    "\n",
    "# Get list of all files in the source directory, excluding those with \"store\" in the filename\n",
    "all_files = [f for f in os.listdir(source_dir) if \"store\" not in f]\n",
    "random.shuffle(all_files)  # Shuffle files randomly\n",
    "\n",
    "# Calculate the split index\n",
    "split_index = int(len(all_files) * split_ratio)\n",
    "\n",
    "# Split files into train and test\n",
    "train_files = all_files[:split_index]\n",
    "test_files = all_files[split_index:]\n",
    "\n",
    "# Copy files to the respective directories\n",
    "for file_name in train_files:\n",
    "    shutil.copy(os.path.join(source_dir, file_name), os.path.join(train_dir, file_name))\n",
    "\n",
    "for file_name in test_files:\n",
    "    shutil.copy(os.path.join(source_dir, file_name), os.path.join(val_dir, file_name))\n",
    "\n",
    "print(f\"Copied {len(train_files)} files to {train_dir}\")\n",
    "print(f\"Copied {len(test_files)} files to {val_dir}\")\n"
   ]
  },
  {
   "cell_type": "code",
   "execution_count": 4,
   "metadata": {},
   "outputs": [],
   "source": [
    "labels_map= {\"UP\": 0, \"DOWN\": 1, \"RIGHT\": 2, \"LEFT\": 3, \"FRONT\": 4, \"BACK\": 5, \"ROTATELEFT\": 6, \"ROTATERIGHT\": 7, \"LAND\": 8}\n",
    "train_labels=[]\n",
    "val_labels=[]\n",
    "for file in os.listdir(train_dir):\n",
    "    label=file.split(\"_\")[0]\n",
    "    n=file.split('.')[0]\n",
    "    train_labels.append((n,labels_map[label.upper()]))\n",
    "for file in os.listdir(val_dir):\n",
    "    label=file.split(\"_\")[0]\n",
    "    n=file.split('.')[0]\n",
    "    val_labels.append((n,labels_map[label.upper()]))"
   ]
  },
  {
   "cell_type": "code",
   "execution_count": 5,
   "metadata": {},
   "outputs": [
    {
     "name": "stdout",
     "output_type": "stream",
     "text": [
      "Train labels saved to train.csv\n",
      "Validation labels saved to val.csv\n"
     ]
    }
   ],
   "source": [
    "import csv\n",
    "\n",
    "# Write train_labels to CSV\n",
    "with open(train_csv, mode='w', newline='') as file:\n",
    "    writer = csv.writer(file)\n",
    "    writer.writerow([\"filename\", \"label\"])  # Header\n",
    "    writer.writerows(train_labels)\n",
    "\n",
    "# Write val_labels to CSV\n",
    "with open(val_csv, mode='w', newline='') as file:\n",
    "    writer = csv.writer(file)\n",
    "    writer.writerow([\"filename\", \"label\"])  # Header\n",
    "    writer.writerows(val_labels)\n",
    "\n",
    "print(f\"Train labels saved to {train_csv}\")\n",
    "print(f\"Validation labels saved to {val_csv}\")"
   ]
  },
  {
   "cell_type": "code",
   "execution_count": 6,
   "metadata": {
    "id": "COpVQ-btO-4x"
   },
   "outputs": [],
   "source": [
    "train_labels = pd.read_csv(train_csv) \n",
    "val_labels = pd.read_csv(val_csv) "
   ]
  },
  {
   "cell_type": "markdown",
   "metadata": {},
   "source": [
    "## Loading Data "
   ]
  },
  {
   "cell_type": "code",
   "execution_count": 10,
   "metadata": {
    "id": "NHBbK8cyDCuD"
   },
   "outputs": [],
   "source": [
    "# Function to load dataset\n",
    "def load_data(label_df, data_dir):\n",
    "    # Empty lists to store features and labels\n",
    "    features = []\n",
    "    labels = []\n",
    "\n",
    "    for _, row in label_df.iterrows():\n",
    "        filename = os.path.join(data_dir, row['filename']+\".csv\" )\n",
    "        \n",
    "\n",
    "        # Read file into pandas dataframe\n",
    "        df = pd.read_csv(filename)\n",
    "        df = df.head(395)\n",
    "\n",
    "        # Keep only accelerometer and gyroscope signals\n",
    "        data = df[['Acce_X', 'Acce_Y', 'Acce_Z', 'Gyro_X', 'Gyro_Y', 'Gyro_Z']].values.astype(np.float32)\n",
    "        \n",
    "\n",
    "        # Normalize data\n",
    "        data = (data - data.min(axis=0)) / (data.max(axis=0) - data.min(axis=0))\n",
    "\n",
    "        # Populate lists with normalized data and labels\n",
    "        features.append(data.flatten())\n",
    "        labels.append(int(row['label']))\n",
    "\n",
    "    return np.array(features), np.array(labels)"
   ]
  },
  {
   "cell_type": "markdown",
   "metadata": {},
   "source": [
    "## Training SVM model"
   ]
  },
  {
   "cell_type": "code",
   "execution_count": 21,
   "metadata": {
    "id": "tw0AqcaAZOlT"
   },
   "outputs": [],
   "source": [
    "def train_and_evaluate_svm(X_train, y_train, X_test, y_test):\n",
    "    # Create the SVM classifier\n",
    "    svm_classifier = SVC(kernel='rbf')\n",
    "\n",
    "    # Train the classifier\n",
    "    svm_classifier.fit(X_train, y_train)\n",
    "\n",
    "    # Perform prediction on the train and test set\n",
    "    y_train_pred = svm_classifier.predict(X_train)\n",
    "    y_val_pred = svm_classifier.predict(X_test)\n",
    "\n",
    "    # Evaluate the model\n",
    "    train_accuracy = accuracy_score(y_train, y_train_pred)\n",
    "    val_accuracy = accuracy_score(y_test, y_val_pred)\n",
    "    print(f'SVM Training accuracy: {train_accuracy:.3%}')\n",
    "    print(f'SVM Validation accuracy: {val_accuracy:.3%}')\n",
    "    reverse_labels_map = {value: key for key, value in labels_map.items()}\n",
    "    class_names = [reverse_labels_map[i] for i in range(len(reverse_labels_map))]\n",
    "\n",
    "    # Generate the confusion matrix with all labels\n",
    "    conf_matrix = confusion_matrix(y_test, y_val_pred)\n",
    "    joblib.dump(svm_classifier, 'svm_model.pkl')\n",
    "\n",
    "    sns.heatmap(conf_matrix, annot=True, cmap=\"Blues\", xticklabels=class_names, yticklabels=class_names)\n",
    "    plt.title('Confusion Matrix for Validation Data')\n",
    "    plt.xlabel('Predicted Labels')\n",
    "    plt.ylabel('True Labels')\n",
    "    plt.show()\n",
    "\n"
   ]
  },
  {
   "cell_type": "code",
   "execution_count": 22,
   "metadata": {
    "id": "3QxZLiTfcU1f"
   },
   "outputs": [],
   "source": [
    "# Create the train and test sets\n",
    "X_train, y_train = load_data(train_labels, train_dir)\n",
    "X_test, y_test = load_data(val_labels, val_dir)"
   ]
  },
  {
   "cell_type": "markdown",
   "metadata": {
    "id": "fCArqiNpea_g"
   },
   "source": [
    "## Training and Evaluating SVM"
   ]
  },
  {
   "cell_type": "code",
   "execution_count": 23,
   "metadata": {
    "colab": {
     "base_uri": "https://localhost:8080/",
     "height": 490
    },
    "id": "ouNXFlddZhuq",
    "outputId": "c3bd5019-4660-41d2-b486-457490630ff6"
   },
   "outputs": [
    {
     "name": "stdout",
     "output_type": "stream",
     "text": [
      "SVM Training accuracy: 100.000%\n",
      "SVM Validation accuracy: 98.889%\n"
     ]
    },
    {
     "data": {
      "image/png": "[encoded data removed]",
      "text/plain": [
       "<Figure size 640x480 with 2 Axes>"
      ]
     },
     "metadata": {},
     "output_type": "display_data"
    }
   ],
   "source": [
    "# Perform training and testing with SVM\n",
    "train_and_evaluate_svm(X_train, y_train, X_test, y_test)"
   ]
  },
  {
   "cell_type": "code",
   "execution_count": null,
   "metadata": {},
   "outputs": [],
   "source": []
  }
 ],
 "metadata": {
  "colab": {
   "provenance": []
  },
  "kernelspec": {
   "display_name": "Python 3 (ipykernel)",
   "language": "python",
   "name": "python3"
  },
  "language_info": {
   "codemirror_mode": {
    "name": "ipython",
    "version": 3
   },
   "file_extension": ".py",
   "mimetype": "text/x-python",
   "name": "python",
   "nbconvert_exporter": "python",
   "pygments_lexer": "ipython3",
   "version": "3.11.5"
  }
 },
 "nbformat": 4,
 "nbformat_minor": 4
}
